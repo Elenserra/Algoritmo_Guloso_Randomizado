{
 "cells": [
  {
   "cell_type": "code",
   "execution_count": 5,
   "id": "ef9b9fa9",
   "metadata": {},
   "outputs": [
    {
     "name": "stdout",
     "output_type": "stream",
     "text": [
      "\n",
      " ____Solucao inicial____\n",
      "\n",
      "_Tipo  1\n",
      "rota  1 :  54.0  - passageiros:  273.0\n",
      "rota  2 :  24.0  - passageiros:  269.0\n",
      "rota  3 :  0.0  - passageiros:  4.0\n",
      "rota  4 :  15.0  - passageiros:  256.0\n",
      "\n",
      "_Tipo  2\n",
      "rota  1 :  8.0  - passageiros:  258.0\n",
      "rota  2 :  13.0  - passageiros:  303.0\n",
      "rota  3 :  13.0  - passageiros:  404.0\n",
      "rota  4 :  0.0  - passageiros:  312.0\n",
      "\n",
      "_Tipo  3\n",
      "rota  1 :  9.0  - passageiros:  219.0\n",
      "rota  2 :  11.0  - passageiros:  6.0\n",
      "rota  3 :  25.0  - passageiros:  55.0\n",
      "rota  4 :  0.0  - passageiros:  209.0\n",
      "\n",
      "________________________\n"
     ]
    }
   ],
   "source": [
    "import random\n",
    "import numpy as np\n",
    "\n",
    "B = 3                      #tipos de veiculos\n",
    "R = 4                        #conjunto de rotas\n",
    "FT = [96,58,45]               #FT_b: frota disponível por tipo de veículo\n",
    "frequencia = np.zeros((B,R))   #F_br: frequência de serviço do tipo de veículo b na rota r \n",
    "PD = [300,436,260,500]          #demanda de passageiros por hora na rota r\n",
    "\n",
    "#gerando uma solução inicial\n",
    "#lista de rotas restantes\n",
    "rotas = [] \n",
    "#numero de passageiros alocados em cada rota r pelos diferentes tipos de veiculos b\n",
    "Q = np.zeros((B,R))\n",
    "\n",
    "#para cada tipo de veiculo b\n",
    "for b in range(B):\n",
    "    #numero maximo de veiculos disponiveis para cada tipo b \n",
    "    max = FT[b]\n",
    "    #para cada rota r\n",
    "    for r in range (R):\n",
             #numero de passageiros em cada rota r \n",
    "        p = PD[b]\n",
    "        #adiciona o conjunto de rotas na lista de rotas restantes\n",
    "        rotas.append(r) \n",
    "    #enquanto houver rotas restantes\n",
    "    while(rotas):\n",
    "        #sorteia uma rota r\n",
    "        r = random.choice(rotas)\n",
    "        #sorteia um numero de veiculo enviado para a rota r \n",
    "        frequencia[b][r]= random.randint(0,max)\n",
    "        #atualiza o numero maximo de veiculos disponiveis para cada tipo b \n",
    "        max -= frequencia[b][r]\n",
    "        #sorteia um numero de passageiros para cada tipo de veiculo b na rota r\n",
    "        Q[b][r] = random.randint(0,p)\n",
    "        #remove a rota r da lista de rotas restantes\n",
    "        rotas.remove(r)\n",
    "\n",
    "#imprimindo a solução inicial\n",
    "print(\"\\n ____Solucao inicial____\\n\")\n",
    "\n",
    "#para cada tipo de veiculo b\n",
    "for b in range(B):\n",
    "    print(\"_Tipo \", b+1)\n",
    "    #para cada rota r\n",
    "    for r in range(R):\n",
    "        print(\"rota \", r+1, \": \", frequencia[b][r],\" - passageiros: \", Q[b][r])\n",
    "    print()\n",
    "print(\"_\"*24)\n",
    "\n"
   ]
  },
  {
   "cell_type": "code",
   "execution_count": null,
   "id": "7bb2aeb1",
   "metadata": {},
   "outputs": [],
   "source": []
  }
 ],
 "metadata": {
  "kernelspec": {
   "display_name": "Python 3 (ipykernel)",
   "language": "python",
   "name": "python3"
  },
  "language_info": {
   "codemirror_mode": {
    "name": "ipython",
    "version": 3
   },
   "file_extension": ".py",
   "mimetype": "text/x-python",
   "name": "python",
   "nbconvert_exporter": "python",
   "pygments_lexer": "ipython3",
   "version": "3.10.6"
  }
 },
 "nbformat": 4,
 "nbformat_minor": 5
}
