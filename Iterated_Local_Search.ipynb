{
 "cells": [
  {
   "cell_type": "code",
   "execution_count": 8,
   "id": "ef9b9fa9",
   "metadata": {},
   "outputs": [
    {
     "name": "stdout",
     "output_type": "stream",
     "text": [
      "\n",
      " __Solucao inicial__\n",
      "\n",
      "[[11. 54.  5.  1.]\n",
      " [11.  0. 45.  2.]\n",
      " [ 1.  1.  2. 40.]]\n",
      "____________________\n"
     ]
    }
   ],
   "source": [
    "import random\n",
    "import numpy as np\n",
    "\n",
    "B = 3                      #tipos de veiculos\n",
    "R = 4                        #conjunto de rotas\n",
    "FT = [96,58,45]               #ft_b: frota disponível por tipo de veículo\n",
    "frequencia = np.zeros((B,R))   #f_br: frequência de serviço do tipo de veículo b na rota r \n",
    "\n",
    "#gerando uma solução inicial\n",
    "solucaoInicial = []  \n",
    "\n",
    "rotas = [] \n",
    "for b in range(B):\n",
    "    max = FT[b]\n",
    "    for r in range (R):\n",
    "        rotas.append(r) #lista de rotas\n",
    "    while(rotas):\n",
    "        r = random.choice(rotas)\n",
    "        frequencia[b][r]= random.randint(0,max)\n",
    "        max -= frequencia[b][r]\n",
    "        rotas.remove(r)\n",
    "solucaoInicial.append(frequencia)\n",
    "\n",
    "#imprimindo a solução inicial\n",
    "print(\"\\n __Solucao inicial__\\n\")\n",
    "for s in solucaoInicial:\n",
    "    print(s, end=\"\\n\")\n",
    "print(\"_\"*20)"
   ]
  }
 ],
 "metadata": {
  "kernelspec": {
   "display_name": "Python 3 (ipykernel)",
   "language": "python",
   "name": "python3"
  },
  "language_info": {
   "codemirror_mode": {
    "name": "ipython",
    "version": 3
   },
   "file_extension": ".py",
   "mimetype": "text/x-python",
   "name": "python",
   "nbconvert_exporter": "python",
   "pygments_lexer": "ipython3",
   "version": "3.10.6"
  }
 },
 "nbformat": 4,
 "nbformat_minor": 5
}
